{
 "metadata": {
  "name": "",
  "signature": "sha256:ef3e3200e7d2b6bb74bb505cedcab1fdd9b14a146ada0c45bf3c3b5aaa5b7b7a"
 },
 "nbformat": 3,
 "nbformat_minor": 0,
 "worksheets": [
  {
   "cells": [
    {
     "cell_type": "markdown",
     "metadata": {},
     "source": [
      "<h2>Importing Libraries"
     ]
    },
    {
     "cell_type": "code",
     "collapsed": false,
     "input": [
      "from __future__ import division"
     ],
     "language": "python",
     "metadata": {},
     "outputs": [],
     "prompt_number": 23
    },
    {
     "cell_type": "code",
     "collapsed": false,
     "input": [
      "import pandas as pd\n",
      "import numpy as np\n",
      "import comp_prob_inference\n",
      "np.set_printoptions(precision=3)"
     ],
     "language": "python",
     "metadata": {},
     "outputs": [],
     "prompt_number": 42
    },
    {
     "cell_type": "code",
     "collapsed": false,
     "input": [
      "model = {'heads':1/2,'tails':1/2}"
     ],
     "language": "python",
     "metadata": {},
     "outputs": [],
     "prompt_number": 2
    },
    {
     "cell_type": "code",
     "collapsed": false,
     "input": [
      "sample_space = set(model.keys())\n",
      "print sample_space"
     ],
     "language": "python",
     "metadata": {},
     "outputs": [
      {
       "output_type": "stream",
       "stream": "stdout",
       "text": [
        "set(['heads', 'tails'])\n"
       ]
      }
     ],
     "prompt_number": 4
    },
    {
     "cell_type": "markdown",
     "metadata": {},
     "source": [
      "Notes\n",
      "\n",
      "* Sample space is collectively exhaustive. \n",
      "* After the experiment only one outcome happens\n",
      "* Probabilities of each event happening is between [0,1]\n",
      "* Sum of probabilities of each outcomes sums to 1"
     ]
    },
    {
     "cell_type": "code",
     "collapsed": false,
     "input": [
      "model = {1: 0.4, 2: 0.3, 'cat': 0.3}\n",
      "sample_space = set(model.keys())\n",
      "print sample_space"
     ],
     "language": "python",
     "metadata": {},
     "outputs": [
      {
       "output_type": "stream",
       "stream": "stdout",
       "text": [
        "set([1, 2, 'cat'])\n"
       ]
      }
     ],
     "prompt_number": 5
    },
    {
     "cell_type": "code",
     "collapsed": false,
     "input": [
      "model = {1:0.16667 , 2: 0.16667, 3: 0.16667, 4: 0.16667, 5: 0.16667, 6: 0.16667 }\n",
      "sample_space = set(model.keys())\n",
      "print sample_space"
     ],
     "language": "python",
     "metadata": {},
     "outputs": [
      {
       "output_type": "stream",
       "stream": "stdout",
       "text": [
        "set([1, 2, 3, 4, 5, 6])\n"
       ]
      }
     ],
     "prompt_number": 12
    },
    {
     "cell_type": "code",
     "collapsed": false,
     "input": [
      "model"
     ],
     "language": "python",
     "metadata": {},
     "outputs": [
      {
       "metadata": {},
       "output_type": "pyout",
       "prompt_number": 13,
       "text": [
        "{1: 0.16667, 2: 0.16667, 3: 0.16667, 4: 0.16667, 5: 0.16667, 6: 0.16667}"
       ]
      }
     ],
     "prompt_number": 13
    },
    {
     "cell_type": "code",
     "collapsed": false,
     "input": [],
     "language": "python",
     "metadata": {},
     "outputs": []
    },
    {
     "cell_type": "code",
     "collapsed": false,
     "input": [
      "x=6\n",
      "y=6\n",
      "z=0.02777778"
     ],
     "language": "python",
     "metadata": {},
     "outputs": [],
     "prompt_number": 14
    },
    {
     "cell_type": "code",
     "collapsed": false,
     "input": [
      "model = {}\n",
      "for i in range(1, x+1):\n",
      "    for j in range(1, y+1):\n",
      "        model[(i, j)] = z"
     ],
     "language": "python",
     "metadata": {},
     "outputs": [],
     "prompt_number": 15
    },
    {
     "cell_type": "code",
     "collapsed": false,
     "input": [
      "model"
     ],
     "language": "python",
     "metadata": {},
     "outputs": [
      {
       "metadata": {},
       "output_type": "pyout",
       "prompt_number": 16,
       "text": [
        "{(1, 1): 0.02777778,\n",
        " (1, 2): 0.02777778,\n",
        " (1, 3): 0.02777778,\n",
        " (1, 4): 0.02777778,\n",
        " (1, 5): 0.02777778,\n",
        " (1, 6): 0.02777778,\n",
        " (2, 1): 0.02777778,\n",
        " (2, 2): 0.02777778,\n",
        " (2, 3): 0.02777778,\n",
        " (2, 4): 0.02777778,\n",
        " (2, 5): 0.02777778,\n",
        " (2, 6): 0.02777778,\n",
        " (3, 1): 0.02777778,\n",
        " (3, 2): 0.02777778,\n",
        " (3, 3): 0.02777778,\n",
        " (3, 4): 0.02777778,\n",
        " (3, 5): 0.02777778,\n",
        " (3, 6): 0.02777778,\n",
        " (4, 1): 0.02777778,\n",
        " (4, 2): 0.02777778,\n",
        " (4, 3): 0.02777778,\n",
        " (4, 4): 0.02777778,\n",
        " (4, 5): 0.02777778,\n",
        " (4, 6): 0.02777778,\n",
        " (5, 1): 0.02777778,\n",
        " (5, 2): 0.02777778,\n",
        " (5, 3): 0.02777778,\n",
        " (5, 4): 0.02777778,\n",
        " (5, 5): 0.02777778,\n",
        " (5, 6): 0.02777778,\n",
        " (6, 1): 0.02777778,\n",
        " (6, 2): 0.02777778,\n",
        " (6, 3): 0.02777778,\n",
        " (6, 4): 0.02777778,\n",
        " (6, 5): 0.02777778,\n",
        " (6, 6): 0.02777778}"
       ]
      }
     ],
     "prompt_number": 16
    },
    {
     "cell_type": "code",
     "collapsed": false,
     "input": [],
     "language": "python",
     "metadata": {},
     "outputs": []
    },
    {
     "cell_type": "code",
     "collapsed": false,
     "input": [
      "prob_space = {'sunny': 1/2, 'rainy': 1/6, 'snowy': 1/3}\n",
      "\n",
      "random_outcome = cp.sample_from_finite_probability_space(prob_space)\n",
      "\n",
      "random_outcome"
     ],
     "language": "python",
     "metadata": {},
     "outputs": [
      {
       "metadata": {},
       "output_type": "pyout",
       "prompt_number": 35,
       "text": [
        "'sunny'"
       ]
      }
     ],
     "prompt_number": 35
    },
    {
     "cell_type": "code",
     "collapsed": false,
     "input": [
      "prob_table = {('sunny', 'hot'): 3/10,\n",
      "     ('sunny', 'cold'): 1/5,\n",
      "     ('rainy', 'hot'): 1/30,\n",
      "     ('rainy', 'cold'): 2/15,\n",
      "     ('snowy', 'hot'): 0,\n",
      "     ('snowy', 'cold'): 1/3}"
     ],
     "language": "python",
     "metadata": {},
     "outputs": [],
     "prompt_number": 36
    },
    {
     "cell_type": "code",
     "collapsed": false,
     "input": [
      "prob_table = {('sunny', 1): 1/4,\n",
      "     ('sunny', 0): 1/4,\n",
      "     ('rainy', 1): 1/12,\n",
      "     ('rainy', 0): 1/12,\n",
      "     ('snowy', 1): 1/6,\n",
      "     ('snowy', 0): 1/6}"
     ],
     "language": "python",
     "metadata": {},
     "outputs": [],
     "prompt_number": 38
    },
    {
     "cell_type": "code",
     "collapsed": false,
     "input": [
      "prob_table[('rainy', 0)]"
     ],
     "language": "python",
     "metadata": {},
     "outputs": [
      {
       "metadata": {},
       "output_type": "pyout",
       "prompt_number": 40,
       "text": [
        "0.08333333333333333"
       ]
      }
     ],
     "prompt_number": 40
    },
    {
     "cell_type": "code",
     "collapsed": false,
     "input": [
      "prob_W_T_dict = {}\n",
      "for w in {'sunny', 'rainy', 'snowy'}:\n",
      "    prob_W_T_dict[w] = {}\n",
      "\n",
      "prob_W_T_dict['sunny']['hot'] = 3/10\n",
      "prob_W_T_dict['sunny']['cold'] = 1/5\n",
      "prob_W_T_dict['rainy']['hot'] = 1/30\n",
      "prob_W_T_dict['rainy']['cold'] = 2/15\n",
      "prob_W_T_dict['snowy']['hot'] = 0\n",
      "prob_W_T_dict['snowy']['cold'] = 1/3"
     ],
     "language": "python",
     "metadata": {},
     "outputs": [],
     "prompt_number": 45
    },
    {
     "cell_type": "code",
     "collapsed": false,
     "input": [
      "comp_prob_inference.print_joint_prob_table_dict(prob_W_T_dict)"
     ],
     "language": "python",
     "metadata": {},
     "outputs": [
      {
       "output_type": "stream",
       "stream": "stdout",
       "text": [
        "           cold       hot\n",
        "rainy  0.133333  0.033333\n",
        "snowy  0.333333  0.000000\n",
        "sunny  0.200000  0.300000\n"
       ]
      }
     ],
     "prompt_number": 46
    },
    {
     "cell_type": "code",
     "collapsed": false,
     "input": [
      "prob_W_T_dict"
     ],
     "language": "python",
     "metadata": {},
     "outputs": [
      {
       "metadata": {},
       "output_type": "pyout",
       "prompt_number": 47,
       "text": [
        "{'rainy': {'cold': 0.13333333333333333, 'hot': 0.03333333333333333},\n",
        " 'snowy': {'cold': 0.3333333333333333, 'hot': 0},\n",
        " 'sunny': {'cold': 0.2, 'hot': 0.3}}"
       ]
      }
     ],
     "prompt_number": 47
    },
    {
     "cell_type": "code",
     "collapsed": false,
     "input": [
      "prob_W_T_dict = {}\n",
      "for w in {'sunny', 'rainy', 'snowy'}:\n",
      "    prob_W_T_dict[w] = {}\n",
      "\n",
      "prob_W_T_dict['sunny']['hot'] = 3/10\n",
      "prob_W_T_dict['sunny']['cold'] = 1/5\n",
      "prob_W_T_dict['rainy']['hot'] = 1/30\n",
      "prob_W_T_dict['rainy']['cold'] = 2/15\n",
      "prob_W_T_dict['snowy']['hot'] = 0\n",
      "prob_W_T_dict['snowy']['cold'] = 1/3\n",
      "\n",
      "comp_prob_inference.print_joint_prob_table_dict(prob_W_T_dict)"
     ],
     "language": "python",
     "metadata": {},
     "outputs": [
      {
       "output_type": "stream",
       "stream": "stdout",
       "text": [
        "           cold       hot\n",
        "rainy  0.133333  0.033333\n",
        "snowy  0.333333  0.000000\n",
        "sunny  0.200000  0.300000\n"
       ]
      }
     ],
     "prompt_number": 43
    },
    {
     "cell_type": "code",
     "collapsed": false,
     "input": [
      "prob_W_T_dict"
     ],
     "language": "python",
     "metadata": {},
     "outputs": [
      {
       "metadata": {},
       "output_type": "pyout",
       "prompt_number": 44,
       "text": [
        "{'rainy': {'cold': 0.13333333333333333, 'hot': 0.03333333333333333},\n",
        " 'snowy': {'cold': 0.3333333333333333, 'hot': 0},\n",
        " 'sunny': {'cold': 0.2, 'hot': 0.3}}"
       ]
      }
     ],
     "prompt_number": 44
    },
    {
     "cell_type": "code",
     "collapsed": false,
     "input": [
      "prob_W_T_dict = {}\n",
      "for w in {'sunny', 'rainy', 'snowy'}:\n",
      "    prob_W_T_dict[w] = {}\n",
      "\n",
      "prob_W_T_dict['sunny'][1] = 1/4\n",
      "prob_W_T_dict['sunny'][0] = 1/4\n",
      "prob_W_T_dict['rainy'][1] = 1/12\n",
      "prob_W_T_dict['rainy'][0] = 1/12\n",
      "prob_W_T_dict['snowy'][1] = 1/6\n",
      "prob_W_T_dict['snowy'][0] = 1/6\n",
      "\n",
      "comp_prob_inference.print_joint_prob_table_dict(prob_W_T_dict)"
     ],
     "language": "python",
     "metadata": {},
     "outputs": [
      {
       "output_type": "stream",
       "stream": "stdout",
       "text": [
        "              0         1\n",
        "rainy  0.083333  0.083333\n",
        "snowy  0.166667  0.166667\n",
        "sunny  0.250000  0.250000\n"
       ]
      }
     ],
     "prompt_number": 52
    },
    {
     "cell_type": "code",
     "collapsed": false,
     "input": [
      "prob_W_T_dict"
     ],
     "language": "python",
     "metadata": {},
     "outputs": [
      {
       "metadata": {},
       "output_type": "pyout",
       "prompt_number": 53,
       "text": [
        "{'rainy': {0: 0.08333333333333333, 1: 0.08333333333333333},\n",
        " 'snowy': {0: 0.16666666666666666, 1: 0.16666666666666666},\n",
        " 'sunny': {0: 0.25, 1: 0.25}}"
       ]
      }
     ],
     "prompt_number": 53
    },
    {
     "cell_type": "code",
     "collapsed": false,
     "input": [
      "prob_W_T_dict = {}\n",
      "for w in {1,0}:\n",
      "    prob_W_T_dict[w] = {}\n",
      "\n",
      "prob_W_T_dict[1]['sunny'] = 1/4\n",
      "prob_W_T_dict[0]['sunny'] = 1/4\n",
      "prob_W_T_dict[1]['rainy'] = 1/12\n",
      "prob_W_T_dict[0]['rainy'] = 1/12\n",
      "prob_W_T_dict[1]['snowy'] = 1/6\n",
      "prob_W_T_dict[0]['snowy'] = 1/6\n",
      "\n",
      "comp_prob_inference.print_joint_prob_table_dict(prob_W_T_dict)"
     ],
     "language": "python",
     "metadata": {},
     "outputs": [
      {
       "output_type": "stream",
       "stream": "stdout",
       "text": [
        "      rainy     snowy  sunny\n",
        "0  0.083333  0.166667   0.25\n",
        "1  0.083333  0.166667   0.25\n"
       ]
      }
     ],
     "prompt_number": 54
    },
    {
     "cell_type": "code",
     "collapsed": false,
     "input": [
      "prob_W_T_dict"
     ],
     "language": "python",
     "metadata": {},
     "outputs": [
      {
       "metadata": {},
       "output_type": "pyout",
       "prompt_number": 55,
       "text": [
        "{0: {'rainy': 0.08333333333333333,\n",
        "  'snowy': 0.16666666666666666,\n",
        "  'sunny': 0.25},\n",
        " 1: {'rainy': 0.08333333333333333,\n",
        "  'snowy': 0.16666666666666666,\n",
        "  'sunny': 0.25}}"
       ]
      }
     ],
     "prompt_number": 55
    },
    {
     "cell_type": "markdown",
     "metadata": {},
     "source": [
      "## Simpsons Paradox"
     ]
    },
    {
     "cell_type": "code",
     "collapsed": false,
     "input": [
      "from simpsons_paradox_data import *"
     ],
     "language": "python",
     "metadata": {},
     "outputs": [],
     "prompt_number": 56
    },
    {
     "cell_type": "markdown",
     "metadata": {},
     "source": [
      "We have the data encoded as a 3D joint probability table across three random variables for gender (either female or male), for the department someone applied to (there are 6 departments in consideration, which for simplicity we will just call A, B, C, D, E, and F), and for the admissions decision (either admitted or rejected)"
     ]
    },
    {
     "cell_type": "code",
     "collapsed": false,
     "input": [
      "joint_prob_table"
     ],
     "language": "python",
     "metadata": {},
     "outputs": [
      {
       "metadata": {},
       "output_type": "pyout",
       "prompt_number": 59,
       "text": [
        "array([[[ 0.02 ,  0.004],\n",
        "        [ 0.004,  0.002],\n",
        "        [ 0.045,  0.086],\n",
        "        [ 0.029,  0.054],\n",
        "        [ 0.021,  0.066],\n",
        "        [ 0.005,  0.07 ]],\n",
        "\n",
        "       [[ 0.113,  0.069],\n",
        "        [ 0.078,  0.046],\n",
        "        [ 0.027,  0.045],\n",
        "        [ 0.03 ,  0.062],\n",
        "        [ 0.012,  0.03 ],\n",
        "        [ 0.005,  0.077]]])"
       ]
      }
     ],
     "prompt_number": 59
    },
    {
     "cell_type": "code",
     "collapsed": false,
     "input": [],
     "language": "python",
     "metadata": {},
     "outputs": [],
     "prompt_number": 62
    },
    {
     "cell_type": "markdown",
     "metadata": {},
     "source": [
      "#####  We can turn a probability space represented as a Python dictionary into the 3D joint probability table, stored as a 3D NumPy array. "
     ]
    },
    {
     "cell_type": "code",
     "collapsed": false,
     "input": [
      "joint_prob_table[gender_mapping['female'], department_mapping['C'], admission_mapping['admitted']]"
     ],
     "language": "python",
     "metadata": {},
     "outputs": [
      {
       "metadata": {},
       "output_type": "pyout",
       "prompt_number": 57,
       "text": [
        "0.044547061422890007"
       ]
      }
     ],
     "prompt_number": 57
    },
    {
     "cell_type": "code",
     "collapsed": false,
     "input": [
      "joint_prob_table[gender_mapping['male'], department_mapping['A'], admission_mapping['admitted']]"
     ],
     "language": "python",
     "metadata": {},
     "outputs": [
      {
       "metadata": {},
       "output_type": "pyout",
       "prompt_number": 98,
       "text": [
        "0.11301369863013702"
       ]
      }
     ],
     "prompt_number": 98
    },
    {
     "cell_type": "code",
     "collapsed": false,
     "input": [
      "joint_prob_table[gender_mapping['female'], department_mapping['C'], admission_mapping['rejected']]"
     ],
     "language": "python",
     "metadata": {},
     "outputs": [
      {
       "metadata": {},
       "output_type": "pyout",
       "prompt_number": 84,
       "text": [
        "0.086473707467962915"
       ]
      }
     ],
     "prompt_number": 84
    },
    {
     "cell_type": "markdown",
     "metadata": {},
     "source": [
      "Some terminology: In Python, especially when we deal with NumPy arrays higher than 2 dimensions, talking about rows and columns is confusing. We will instead refer to the different axes as <b>axis 0 (in this case: gender), axis 1 (in this case: department), axis 2 (in this case: admission decision)</b>"
     ]
    },
    {
     "cell_type": "markdown",
     "metadata": {},
     "source": [
      "First, let's look at the probability that women were admitted vs the probability that men were admitted. This means that we are going to marginalize out the department (again, this is axis 1). "
     ]
    },
    {
     "cell_type": "code",
     "collapsed": false,
     "input": [
      "joint_prob_gender_admission = joint_prob_table.sum(axis=1)"
     ],
     "language": "python",
     "metadata": {},
     "outputs": [],
     "prompt_number": 63
    },
    {
     "cell_type": "markdown",
     "metadata": {},
     "source": [
      "Python variable joint_prob_gender_admission stores a 2D joint probability table for random variables G and A. "
     ]
    },
    {
     "cell_type": "code",
     "collapsed": false,
     "input": [
      "joint_prob_gender_admission"
     ],
     "language": "python",
     "metadata": {},
     "outputs": [
      {
       "metadata": {},
       "output_type": "pyout",
       "prompt_number": 64,
       "text": [
        "array([[ 0.123,  0.282],\n",
        "       [ 0.265,  0.33 ]])"
       ]
      }
     ],
     "prompt_number": 64
    },
    {
     "cell_type": "code",
     "collapsed": false,
     "input": [
      "joint_prob_gender_admission[gender_mapping['female'], admission_mapping['admitted']]"
     ],
     "language": "python",
     "metadata": {},
     "outputs": [
      {
       "metadata": {},
       "output_type": "pyout",
       "prompt_number": 66,
       "text": [
        "0.12298276623950503"
       ]
      }
     ],
     "prompt_number": 66
    },
    {
     "cell_type": "code",
     "collapsed": false,
     "input": [
      "joint_prob_gender_admission[gender_mapping['male'], admission_mapping['admitted']]"
     ],
     "language": "python",
     "metadata": {},
     "outputs": [
      {
       "metadata": {},
       "output_type": "pyout",
       "prompt_number": 67,
       "text": [
        "0.26469730446310213"
       ]
      }
     ],
     "prompt_number": 67
    },
    {
     "cell_type": "code",
     "collapsed": false,
     "input": [
      "joint_prob_gender_admission[gender_mapping['male'], admission_mapping['rejected']]"
     ],
     "language": "python",
     "metadata": {},
     "outputs": [
      {
       "metadata": {},
       "output_type": "pyout",
       "prompt_number": 68,
       "text": [
        "0.32986743261157747"
       ]
      }
     ],
     "prompt_number": 68
    },
    {
     "cell_type": "code",
     "collapsed": false,
     "input": [
      "joint_prob_gender_admission[gender_mapping['female'], admission_mapping['rejected']]"
     ],
     "language": "python",
     "metadata": {},
     "outputs": [
      {
       "metadata": {},
       "output_type": "pyout",
       "prompt_number": 69,
       "text": [
        "0.28245249668581535"
       ]
      }
     ],
     "prompt_number": 69
    },
    {
     "cell_type": "markdown",
     "metadata": {},
     "source": [
      "Let's restrict the joint probability table of G and A so that we only look at when :G = female"
     ]
    },
    {
     "cell_type": "code",
     "collapsed": false,
     "input": [
      "female_only = joint_prob_gender_admission[gender_mapping['female']]\n",
      "female_only"
     ],
     "language": "python",
     "metadata": {},
     "outputs": [
      {
       "metadata": {},
       "output_type": "pyout",
       "prompt_number": 72,
       "text": [
        "array([ 0.123,  0.282])"
       ]
      }
     ],
     "prompt_number": 72
    },
    {
     "cell_type": "markdown",
     "metadata": {},
     "source": [
      "Now this corresponds to a vector that we have to normalize to be 1 to get a valid conditional probability table! "
     ]
    },
    {
     "cell_type": "code",
     "collapsed": false,
     "input": [
      "prob_admission_given_female = female_only / np.sum(female_only)\n",
      "prob_admission_given_female"
     ],
     "language": "python",
     "metadata": {},
     "outputs": [
      {
       "metadata": {},
       "output_type": "pyout",
       "prompt_number": 74,
       "text": [
        "array([ 0.303,  0.697])"
       ]
      }
     ],
     "prompt_number": 74
    },
    {
     "cell_type": "code",
     "collapsed": false,
     "input": [
      "prob_admission_given_female_dict = dict(zip(admission_labels, prob_admission_given_female))\n",
      "print(prob_admission_given_female_dict)"
     ],
     "language": "python",
     "metadata": {},
     "outputs": [
      {
       "output_type": "stream",
       "stream": "stdout",
       "text": [
        "{'rejected': 0.69666485013623991, 'admitted': 0.30333514986376009}\n"
       ]
      }
     ],
     "prompt_number": 75
    },
    {
     "cell_type": "markdown",
     "metadata": {},
     "source": [
      "Probability Admitted| Female ?"
     ]
    },
    {
     "cell_type": "code",
     "collapsed": false,
     "input": [
      "joint_prob_gender_admission[gender_mapping['female'], admission_mapping['admitted']] /np.sum(female_only)"
     ],
     "language": "python",
     "metadata": {},
     "outputs": [
      {
       "metadata": {},
       "output_type": "pyout",
       "prompt_number": 81,
       "text": [
        "0.30333514986376009"
       ]
      }
     ],
     "prompt_number": 81
    },
    {
     "cell_type": "markdown",
     "metadata": {},
     "source": [
      "Probability Admitted | Female ?"
     ]
    },
    {
     "cell_type": "code",
     "collapsed": false,
     "input": [
      "joint_prob_gender_admission[gender_mapping['male'], admission_mapping['admitted']] /np.sum(joint_prob_gender_admission[gender_mapping['male']])"
     ],
     "language": "python",
     "metadata": {},
     "outputs": [
      {
       "metadata": {},
       "output_type": "pyout",
       "prompt_number": 82,
       "text": [
        "0.44519509476031227"
       ]
      }
     ],
     "prompt_number": 82
    },
    {
     "cell_type": "code",
     "collapsed": false,
     "input": [
      "department_labels"
     ],
     "language": "python",
     "metadata": {},
     "outputs": [
      {
       "metadata": {},
       "output_type": "pyout",
       "prompt_number": 83,
       "text": [
        "['A', 'B', 'C', 'D', 'E', 'F']"
       ]
      }
     ],
     "prompt_number": 83
    },
    {
     "cell_type": "code",
     "collapsed": false,
     "input": [],
     "language": "python",
     "metadata": {},
     "outputs": []
    }
   ],
   "metadata": {}
  }
 ]
}